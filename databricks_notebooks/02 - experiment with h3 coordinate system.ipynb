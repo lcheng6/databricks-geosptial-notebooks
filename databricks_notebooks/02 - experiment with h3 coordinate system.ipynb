{
 "cells": [
  {
   "metadata": {},
   "cell_type": "markdown",
   "source": [
    "# US Coastline Shapefile Visualization\n",
    "\n",
    "This notebook demonstrates how to load, explore, and visualize the US coastline shapefile data using various geospatial libraries.\n",
    "\n",
    "## Overview\n",
    "- Load and examine the US coastline shapefile\n",
    "- Display basic information about the dataset\n",
    "- Create static and interactive visualizations\n",
    "- Explore different mapping techniques"
   ]
  },
  {
   "metadata": {
    "ExecuteTime": {
     "end_time": "2025-09-18T18:56:57.960255Z",
     "start_time": "2025-09-18T18:56:57.755054Z"
    }
   },
   "cell_type": "code",
   "source": "%pip install geopandas matplotlib folium",
   "outputs": [
    {
     "name": "stdout",
     "output_type": "stream",
     "text": [
      "/Users/liang.cheng/Documents/advana/databricks-geosptial-notebooks/.venv/bin/python: No module named pip\r\n",
      "Note: you may need to restart the kernel to use updated packages.\n"
     ]
    }
   ],
   "execution_count": 3
  },
  {
   "metadata": {
    "ExecuteTime": {
     "end_time": "2025-09-18T18:58:08.592085Z",
     "start_time": "2025-09-18T18:58:06.618425Z"
    }
   },
   "cell_type": "code",
   "source": [
    "# Import necessary libraries\n",
    "import geopandas as gpd\n",
    "import pandas as pd\n",
    "import matplotlib.pyplot as plt\n",
    "import folium\n",
    "from folium import plugins\n",
    "import numpy as np\n",
    "import warnings\n",
    "warnings.filterwarnings('ignore')\n",
    "\n",
    "# Set up plotting parameters\n",
    "plt.rcParams['figure.figsize'] = (12, 8)\n",
    "plt.style.use('default')\n",
    "\n",
    "print(\"Libraries imported successfully!\")"
   ],
   "outputs": [
    {
     "name": "stdout",
     "output_type": "stream",
     "text": [
      "Libraries imported successfully!\n"
     ]
    },
    {
     "name": "stderr",
     "output_type": "stream",
     "text": [
      "/Users/liang.cheng/Documents/advana/databricks-geosptial-notebooks/.venv/lib/python3.9/site-packages/urllib3/__init__.py:35: NotOpenSSLWarning: urllib3 v2 only supports OpenSSL 1.1.1+, currently the 'ssl' module is compiled with 'LibreSSL 2.8.3'. See: https://github.com/urllib3/urllib3/issues/3020\n",
      "  warnings.warn(\n"
     ]
    }
   ],
   "execution_count": 4
  },
  {
   "metadata": {
    "ExecuteTime": {
     "end_time": "2025-09-18T18:58:11.375398Z",
     "start_time": "2025-09-18T18:58:11.210694Z"
    }
   },
   "cell_type": "code",
   "source": [
    "## 1. Load and Examine the Shapefile\n",
    "\n",
    "# Load the US coastline shapefile\n",
    "shapefile_path = \"data/tl_2023_us_coastline/tl_2023_us_coastline.shp\"\n",
    "\n",
    "try:\n",
    "    # Load the shapefile\n",
    "    gdf = gpd.read_file(shapefile_path)\n",
    "    print(\"✅ Shapefile loaded successfully!\")\n",
    "    print(f\"Shape: {gdf.shape}\")\n",
    "    print(f\"CRS: {gdf.crs}\")\n",
    "    print(f\"Columns: {list(gdf.columns)}\")\n",
    "\n",
    "    # Display basic information\n",
    "    print(\"\\n📊 Dataset Information:\")\n",
    "    print(f\"Number of features: {len(gdf)}\")\n",
    "    print(f\"Geometry type: {gdf.geometry.geom_type.unique()}\")\n",
    "    print(f\"Bounds: {gdf.total_bounds}\")\n",
    "\n",
    "except Exception as e:\n",
    "    print(f\"❌ Error loading shapefile: {e}\")\n",
    "    print(\"Make sure the shapefile exists and all required files (.shp, .shx, .dbf, .prj) are present.\")"
   ],
   "outputs": [
    {
     "name": "stdout",
     "output_type": "stream",
     "text": [
      "✅ Shapefile loaded successfully!\n",
      "Shape: (4236, 3)\n",
      "CRS: EPSG:4269\n",
      "Columns: ['NAME', 'MTFCC', 'geometry']\n",
      "\n",
      "📊 Dataset Information:\n",
      "Number of features: 4236\n",
      "Geometry type: ['LineString']\n",
      "Bounds: [-179.147236  -14.548699  179.77847    71.39038 ]\n"
     ]
    }
   ],
   "execution_count": 5
  },
  {
   "metadata": {},
   "cell_type": "markdown",
   "source": [
    "## Create a simplifed version of the coastline for faster plotting\n",
    "\n"
   ]
  },
  {
   "metadata": {
    "ExecuteTime": {
     "end_time": "2025-09-18T19:00:23.062042Z",
     "start_time": "2025-09-18T19:00:22.432423Z"
    }
   },
   "cell_type": "code",
   "source": [
    "# create gdf_simple by simplifying the geometries in gdf\n",
    "gdf_simple = gdf.copy()\n",
    "gdf_simple['geometry'] = gdf_simple['geometry'].simplify(tolerance=1000, preserve_topology=True)\n",
    "# get the pionts of the geometries in gdf_simple\n",
    "gdf_simple['points'] = gdf_simple['geometry'].apply(lambda x: np.array(x.exterior.coords) if x.geom_type == 'Polygon' else np.array(x.coords))\n",
    "gdf_simple.head()"
   ],
   "outputs": [
    {
     "data": {
      "text/plain": [
       "        NAME  MTFCC                                           geometry  \\\n",
       "0  Atlántico  L4150  LINESTRING (-66.01689 18.44877, -66.01667 18.4...   \n",
       "1  Atlántico  L4150  LINESTRING (-65.56333 18.37807, -65.56438 18.3...   \n",
       "2  Atlántico  L4150  LINESTRING (-65.59793 18.39765, -65.5982 18.39...   \n",
       "3  Atlántico  L4150  LINESTRING (-65.55133 18.37372, -65.55158 18.3...   \n",
       "4  Atlántico  L4150  LINESTRING (-65.56089 18.3754, -65.56096 18.37...   \n",
       "\n",
       "                                              points  \n",
       "0  [[-66.016887, 18.448772], [-66.016672, 18.4480...  \n",
       "1  [[-65.563334, 18.378069], [-65.564376, 18.3779...  \n",
       "2  [[-65.597932, 18.397647], [-65.598201, 18.39823]]  \n",
       "3  [[-65.551327, 18.373715], [-65.551576, 18.37383]]  \n",
       "4  [[-65.560892, 18.375399], [-65.560956, 18.3754...  "
      ],
      "text/html": [
       "<div>\n",
       "<style scoped>\n",
       "    .dataframe tbody tr th:only-of-type {\n",
       "        vertical-align: middle;\n",
       "    }\n",
       "\n",
       "    .dataframe tbody tr th {\n",
       "        vertical-align: top;\n",
       "    }\n",
       "\n",
       "    .dataframe thead th {\n",
       "        text-align: right;\n",
       "    }\n",
       "</style>\n",
       "<table border=\"1\" class=\"dataframe\">\n",
       "  <thead>\n",
       "    <tr style=\"text-align: right;\">\n",
       "      <th></th>\n",
       "      <th>NAME</th>\n",
       "      <th>MTFCC</th>\n",
       "      <th>geometry</th>\n",
       "      <th>points</th>\n",
       "    </tr>\n",
       "  </thead>\n",
       "  <tbody>\n",
       "    <tr>\n",
       "      <th>0</th>\n",
       "      <td>Atlántico</td>\n",
       "      <td>L4150</td>\n",
       "      <td>LINESTRING (-66.01689 18.44877, -66.01667 18.4...</td>\n",
       "      <td>[[-66.016887, 18.448772], [-66.016672, 18.4480...</td>\n",
       "    </tr>\n",
       "    <tr>\n",
       "      <th>1</th>\n",
       "      <td>Atlántico</td>\n",
       "      <td>L4150</td>\n",
       "      <td>LINESTRING (-65.56333 18.37807, -65.56438 18.3...</td>\n",
       "      <td>[[-65.563334, 18.378069], [-65.564376, 18.3779...</td>\n",
       "    </tr>\n",
       "    <tr>\n",
       "      <th>2</th>\n",
       "      <td>Atlántico</td>\n",
       "      <td>L4150</td>\n",
       "      <td>LINESTRING (-65.59793 18.39765, -65.5982 18.39...</td>\n",
       "      <td>[[-65.597932, 18.397647], [-65.598201, 18.39823]]</td>\n",
       "    </tr>\n",
       "    <tr>\n",
       "      <th>3</th>\n",
       "      <td>Atlántico</td>\n",
       "      <td>L4150</td>\n",
       "      <td>LINESTRING (-65.55133 18.37372, -65.55158 18.3...</td>\n",
       "      <td>[[-65.551327, 18.373715], [-65.551576, 18.37383]]</td>\n",
       "    </tr>\n",
       "    <tr>\n",
       "      <th>4</th>\n",
       "      <td>Atlántico</td>\n",
       "      <td>L4150</td>\n",
       "      <td>LINESTRING (-65.56089 18.3754, -65.56096 18.37...</td>\n",
       "      <td>[[-65.560892, 18.375399], [-65.560956, 18.3754...</td>\n",
       "    </tr>\n",
       "  </tbody>\n",
       "</table>\n",
       "</div>"
      ]
     },
     "execution_count": 9,
     "metadata": {},
     "output_type": "execute_result"
    }
   ],
   "execution_count": 9
  },
  {
   "metadata": {
    "ExecuteTime": {
     "end_time": "2025-09-18T19:01:05.479398Z",
     "start_time": "2025-09-18T19:01:05.464977Z"
    }
   },
   "cell_type": "code",
   "source": [
    "# get me all the distaint \"NAME\" values in gdf_simple\n",
    "gdf_simple['NAME'].unique()"
   ],
   "outputs": [
    {
     "data": {
      "text/plain": [
       "array(['Atlántico', 'Caribe', 'Atlantic', 'Arctic', 'Caribbean',\n",
       "       'Great Lakes', 'Pacific', 'Gulf'], dtype=object)"
      ]
     },
     "execution_count": 10,
     "metadata": {},
     "output_type": "execute_result"
    }
   ],
   "execution_count": 10
  },
  {
   "metadata": {},
   "cell_type": "code",
   "outputs": [],
   "execution_count": null,
   "source": ""
  }
 ],
 "metadata": {
  "application/vnd.databricks.v1+notebook": {
   "computePreferences": null,
   "dashboards": [],
   "environmentMetadata": {
    "base_environment": "dbe_65bc13ea-276c-4905-a728-9fe2fb1780e2",
    "environment_version": "3"
   },
   "inputWidgetPreferences": null,
   "language": "python",
   "notebookMetadata": {
    "pythonIndentUnit": 2
   },
   "notebookName": "02 - experiment with h3 coordinate system",
   "widgets": {}
  },
  "language_info": {
   "name": "python"
  },
  "kernelspec": {
   "name": "python3",
   "language": "python",
   "display_name": "Python 3 (ipykernel)"
  }
 },
 "nbformat": 4,
 "nbformat_minor": 0
}
