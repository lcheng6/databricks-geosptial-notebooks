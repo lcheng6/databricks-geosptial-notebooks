{
 "cells": [
  {
   "cell_type": "markdown",
   "metadata": {
    "application/vnd.databricks.v1+cell": {
     "cellMetadata": {},
     "inputWidgets": {},
     "nuid": "d40a391d-de53-4145-9fc2-493262656a26",
     "showTitle": false,
     "tableResultSettingsMap": {},
     "title": ""
    }
   },
   "source": [
    "# US Coastline Shapefile Visualization\n",
    "\n",
    "This notebook demonstrates how to load, explore, and visualize the US coastline shapefile data using various geospatial libraries.\n",
    "\n",
    "## Overview\n",
    "- Load and examine the US coastline shapefile\n",
    "- Display basic information about the dataset\n",
    "- Create static and interactive visualizations\n",
    "- Get H3 Grids of Coastline and Near Coastline Areas\n",
    "- Explore Geohashing techniques"
   ]
  },
  {
   "cell_type": "code",
   "execution_count": 0,
   "metadata": {
    "ExecuteTime": {
     "end_time": "2025-09-18T18:56:57.960255Z",
     "start_time": "2025-09-18T18:56:57.755054Z"
    },
    "application/vnd.databricks.v1+cell": {
     "cellMetadata": {
      "byteLimit": 2048000,
      "rowLimit": 10000
     },
     "inputWidgets": {},
     "nuid": "45a68e41-52b2-42ad-9c41-ce844c9a61be",
     "showTitle": false,
     "tableResultSettingsMap": {},
     "title": ""
    }
   },
   "outputs": [],
   "source": [
    "%pip install geopandas matplotlib folium"
   ]
  },
  {
   "cell_type": "code",
   "execution_count": 0,
   "metadata": {
    "ExecuteTime": {
     "end_time": "2025-09-18T18:58:08.592085Z",
     "start_time": "2025-09-18T18:58:06.618425Z"
    },
    "application/vnd.databricks.v1+cell": {
     "cellMetadata": {
      "byteLimit": 2048000,
      "rowLimit": 10000
     },
     "inputWidgets": {},
     "nuid": "f681a187-2c49-40a0-88f9-1472427827d4",
     "showTitle": false,
     "tableResultSettingsMap": {},
     "title": ""
    }
   },
   "outputs": [],
   "source": [
    "# Import necessary libraries\n",
    "import geopandas as gpd\n",
    "import pandas as pd\n",
    "import matplotlib.pyplot as plt\n",
    "import folium\n",
    "from folium import plugins\n",
    "import numpy as np\n",
    "import warnings\n",
    "warnings.filterwarnings('ignore')\n",
    "\n",
    "# Set up plotting parameters\n",
    "plt.rcParams['figure.figsize'] = (12, 8)\n",
    "plt.style.use('default')\n",
    "\n",
    "print(\"Libraries imported successfully!\")"
   ]
  },
  {
   "cell_type": "code",
   "execution_count": 0,
   "metadata": {
    "ExecuteTime": {
     "end_time": "2025-09-18T18:58:11.375398Z",
     "start_time": "2025-09-18T18:58:11.210694Z"
    },
    "application/vnd.databricks.v1+cell": {
     "cellMetadata": {
      "byteLimit": 2048000,
      "rowLimit": 10000
     },
     "inputWidgets": {},
     "nuid": "29153d3d-d4b4-4fc7-a21b-ea4415a1ed04",
     "showTitle": false,
     "tableResultSettingsMap": {},
     "title": ""
    }
   },
   "outputs": [],
   "source": [
    "## 1. Load and Examine the Shapefile\n",
    "\n",
    "# Load the US coastline shapefile\n",
    "shapefile_path = \"data/tl_2023_us_coastline/tl_2023_us_coastline.shp\"\n",
    "\n",
    "try:\n",
    "    # Load the shapefile\n",
    "    gdf = gpd.read_file(shapefile_path)\n",
    "    print(\"✅ Shapefile loaded successfully!\")\n",
    "    print(f\"Shape: {gdf.shape}\")\n",
    "    print(f\"CRS: {gdf.crs}\")\n",
    "    print(f\"Columns: {list(gdf.columns)}\")\n",
    "\n",
    "    # Display basic information\n",
    "    print(\"\\n📊 Dataset Information:\")\n",
    "    print(f\"Number of features: {len(gdf)}\")\n",
    "    print(f\"Geometry type: {gdf.geometry.geom_type.unique()}\")\n",
    "    print(f\"Bounds: {gdf.total_bounds}\")\n",
    "\n",
    "except Exception as e:\n",
    "    print(f\"❌ Error loading shapefile: {e}\")\n",
    "    print(\"Make sure the shapefile exists and all required files (.shp, .shx, .dbf, .prj) are present.\")"
   ]
  },
  {
   "cell_type": "markdown",
   "metadata": {
    "application/vnd.databricks.v1+cell": {
     "cellMetadata": {},
     "inputWidgets": {},
     "nuid": "573ffd64-066c-4d82-b484-e3c844278c61",
     "showTitle": false,
     "tableResultSettingsMap": {},
     "title": ""
    }
   },
   "source": [
    "## Create a simplifed version of the coastline for faster plotting\n",
    "\n",
    "and Plot some coast lines with Folium"
   ]
  },
  {
   "cell_type": "code",
   "execution_count": 0,
   "metadata": {
    "ExecuteTime": {
     "end_time": "2025-09-18T19:00:23.062042Z",
     "start_time": "2025-09-18T19:00:22.432423Z"
    },
    "application/vnd.databricks.v1+cell": {
     "cellMetadata": {
      "byteLimit": 2048000,
      "rowLimit": 10000
     },
     "inputWidgets": {},
     "nuid": "358f4ec0-652d-4ba6-9d4c-b16ebdd38fc7",
     "showTitle": false,
     "tableResultSettingsMap": {},
     "title": ""
    }
   },
   "outputs": [],
   "source": [
    "# create gdf_simple by simplifying the geometries in gdf\n",
    "gdf_simple = gdf.copy()\n",
    "gdf_simple['geometry'] = gdf_simple['geometry'].simplify(tolerance=1000, preserve_topology=True)\n",
    "# get the pionts of the geometries in gdf_simple\n",
    "gdf_simple['points'] = gdf_simple['geometry'].apply(lambda x: np.array(x.exterior.coords) if x.geom_type == 'Polygon' else np.array(x.coords))\n",
    "gdf_simple.head()"
   ]
  },
  {
   "cell_type": "code",
   "execution_count": 0,
   "metadata": {
    "ExecuteTime": {
     "end_time": "2025-09-18T19:01:05.479398Z",
     "start_time": "2025-09-18T19:01:05.464977Z"
    },
    "application/vnd.databricks.v1+cell": {
     "cellMetadata": {
      "byteLimit": 2048000,
      "rowLimit": 10000
     },
     "inputWidgets": {},
     "nuid": "28542a1d-0bbe-46b4-94ae-dc222ce2ed30",
     "showTitle": false,
     "tableResultSettingsMap": {},
     "title": ""
    }
   },
   "outputs": [],
   "source": [
    "# get me all the distaint \"NAME\" values in gdf_simple\n",
    "gdf_simple['NAME'].unique()"
   ]
  },
  {
   "cell_type": "code",
   "execution_count": 0,
   "metadata": {
    "application/vnd.databricks.v1+cell": {
     "cellMetadata": {},
     "inputWidgets": {},
     "nuid": "2ce2d856-52c0-4120-9f4f-5dcf09ac476c",
     "showTitle": false,
     "tableResultSettingsMap": {},
     "title": ""
    }
   },
   "outputs": [],
   "source": []
  }
 ],
 "metadata": {
  "application/vnd.databricks.v1+notebook": {
   "computePreferences": {
    "hardware": {
     "accelerator": null,
     "gpuPoolId": null,
     "memory": null
    }
   },
   "dashboards": [],
   "environmentMetadata": {
    "base_environment": "dbe_65bc13ea-276c-4905-a728-9fe2fb1780e2",
    "environment_version": "3"
   },
   "inputWidgetPreferences": null,
   "language": "python",
   "notebookMetadata": {
    "pythonIndentUnit": 2
   },
   "notebookName": "02 - experiment with h3 coordinate system",
   "widgets": {}
  },
  "kernelspec": {
   "display_name": "Python 3 (ipykernel)",
   "language": "python",
   "name": "python3"
  },
  "language_info": {
   "name": "python"
  }
 },
 "nbformat": 4,
 "nbformat_minor": 0
}
