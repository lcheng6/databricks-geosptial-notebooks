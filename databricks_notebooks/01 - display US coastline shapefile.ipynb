{
 "cells": [
  {
   "cell_type": "markdown",
   "metadata": {
    "application/vnd.databricks.v1+cell": {
     "cellMetadata": {},
     "inputWidgets": {},
     "nuid": "3290f339-0879-4d1a-bd68-6d2db92f8617",
     "showTitle": false,
     "tableResultSettingsMap": {},
     "title": ""
    }
   },
   "source": [
    "# US Coastline Shapefile Visualization\n",
    "\n",
    "This notebook demonstrates how to load, explore, and visualize the US coastline shapefile data using various geospatial libraries.\n",
    "\n",
    "## Overview\n",
    "- Load and examine the US coastline shapefile\n",
    "- Display basic information about the dataset\n",
    "- Create static and interactive visualizations\n",
    "- Explore different mapping techniques\n"
   ]
  },
  {
   "cell_type": "code",
   "execution_count": 0,
   "metadata": {
    "ExecuteTime": {
     "end_time": "2025-09-18T17:03:17.785590Z",
     "start_time": "2025-09-18T17:03:17.618786Z"
    },
    "application/vnd.databricks.v1+cell": {
     "cellMetadata": {
      "byteLimit": 2048000,
      "rowLimit": 10000
     },
     "inputWidgets": {},
     "nuid": "9b13dde3-72ce-4b37-b671-4acea7e0e37b",
     "showTitle": false,
     "tableResultSettingsMap": {},
     "title": ""
    }
   },
   "outputs": [],
   "source": [
    "%pip install geopandas matplotlib folium"
   ]
  },
  {
   "cell_type": "code",
   "execution_count": 0,
   "metadata": {
    "ExecuteTime": {
     "end_time": "2025-09-18T17:03:35.788492Z",
     "start_time": "2025-09-18T17:03:25.481123Z"
    },
    "application/vnd.databricks.v1+cell": {
     "cellMetadata": {
      "byteLimit": 2048000,
      "rowLimit": 10000
     },
     "inputWidgets": {},
     "nuid": "adec78bd-7410-4c6f-9fee-eeff1247cda5",
     "showTitle": false,
     "tableResultSettingsMap": {},
     "title": ""
    }
   },
   "outputs": [],
   "source": [
    "# Import necessary libraries\n",
    "import geopandas as gpd\n",
    "import pandas as pd\n",
    "import matplotlib.pyplot as plt\n",
    "import folium\n",
    "from folium import plugins\n",
    "import numpy as np\n",
    "import warnings\n",
    "warnings.filterwarnings('ignore')\n",
    "\n",
    "# Set up plotting parameters\n",
    "plt.rcParams['figure.figsize'] = (12, 8)\n",
    "plt.style.use('default')\n",
    "\n",
    "print(\"Libraries imported successfully!\")\n"
   ]
  },
  {
   "cell_type": "markdown",
   "metadata": {
    "application/vnd.databricks.v1+cell": {
     "cellMetadata": {},
     "inputWidgets": {},
     "nuid": "a8100c28-741c-4b10-978d-ecf7c5f1ebf9",
     "showTitle": false,
     "tableResultSettingsMap": {},
     "title": ""
    }
   },
   "source": [
    "## 1. Load and Examine the Shapefile\n"
   ]
  },
  {
   "cell_type": "code",
   "execution_count": 0,
   "metadata": {
    "ExecuteTime": {
     "end_time": "2025-09-18T17:04:09.511391Z",
     "start_time": "2025-09-18T17:04:09.356330Z"
    },
    "application/vnd.databricks.v1+cell": {
     "cellMetadata": {
      "byteLimit": 2048000,
      "rowLimit": 10000
     },
     "inputWidgets": {},
     "nuid": "f40e51af-ac67-40af-8e25-c2cd560c9f8e",
     "showTitle": false,
     "tableResultSettingsMap": {},
     "title": ""
    }
   },
   "outputs": [],
   "source": [
    "# Load the US coastline shapefile\n",
    "shapefile_path = \"data/tl_2023_us_coastline/tl_2023_us_coastline.shp\"\n",
    "\n",
    "try:\n",
    "    # Load the shapefile\n",
    "    gdf = gpd.read_file(shapefile_path)\n",
    "    print(\"✅ Shapefile loaded successfully!\")\n",
    "    print(f\"Shape: {gdf.shape}\")\n",
    "    print(f\"CRS: {gdf.crs}\")\n",
    "    print(f\"Columns: {list(gdf.columns)}\")\n",
    "    \n",
    "    # Display basic information\n",
    "    print(\"\\n📊 Dataset Information:\")\n",
    "    print(f\"Number of features: {len(gdf)}\")\n",
    "    print(f\"Geometry type: {gdf.geometry.geom_type.unique()}\")\n",
    "    print(f\"Bounds: {gdf.total_bounds}\")\n",
    "    \n",
    "except Exception as e:\n",
    "    print(f\"❌ Error loading shapefile: {e}\")\n",
    "    print(\"Make sure the shapefile exists and all required files (.shp, .shx, .dbf, .prj) are present.\")\n"
   ]
  },
  {
   "cell_type": "code",
   "execution_count": 0,
   "metadata": {
    "ExecuteTime": {
     "end_time": "2025-09-18T17:04:10.750725Z",
     "start_time": "2025-09-18T17:04:10.640012Z"
    },
    "application/vnd.databricks.v1+cell": {
     "cellMetadata": {
      "byteLimit": 2048000,
      "rowLimit": 10000
     },
     "inputWidgets": {},
     "nuid": "ca7eb1aa-cf34-44fe-8a59-8c6c76d97624",
     "showTitle": false,
     "tableResultSettingsMap": {},
     "title": ""
    }
   },
   "outputs": [],
   "source": [
    "# Display the first few rows of the dataset\n",
    "print(\"📋 First 5 rows of the dataset:\")\n",
    "display(gdf.head())\n",
    "\n",
    "print(\"\\n📋 Dataset info:\")\n",
    "print(gdf.info())\n",
    "\n",
    "print(\"\\n📋 Statistical summary:\")\n",
    "print(gdf.describe())\n"
   ]
  },
  {
   "cell_type": "markdown",
   "metadata": {
    "application/vnd.databricks.v1+cell": {
     "cellMetadata": {},
     "inputWidgets": {},
     "nuid": "821ad654-3022-4104-85bc-010a3c3f3ca4",
     "showTitle": false,
     "tableResultSettingsMap": {},
     "title": ""
    }
   },
   "source": [
    "## 2. Static Visualization with Matplotlib\n"
   ]
  },
  {
   "cell_type": "code",
   "execution_count": 0,
   "metadata": {
    "ExecuteTime": {
     "end_time": "2025-09-18T17:04:13.003183Z",
     "start_time": "2025-09-18T17:04:12.256724Z"
    },
    "application/vnd.databricks.v1+cell": {
     "cellMetadata": {
      "byteLimit": 2048000,
      "rowLimit": 10000
     },
     "inputWidgets": {},
     "nuid": "095a8de2-ff2e-41a6-8f23-db1c80fbc5c2",
     "showTitle": false,
     "tableResultSettingsMap": {},
     "title": ""
    }
   },
   "outputs": [],
   "source": [
    "# Create a basic static plot\n",
    "fig, ax = plt.subplots(1, 1, figsize=(15, 10))\n",
    "\n",
    "# Plot the coastline\n",
    "gdf.plot(ax=ax, color='steelblue', linewidth=0.5, alpha=0.8)\n",
    "\n",
    "# Customize the plot\n",
    "ax.set_title('US Coastline (2023)', fontsize=16, fontweight='bold')\n",
    "ax.set_xlabel('Longitude', fontsize=12)\n",
    "ax.set_ylabel('Latitude', fontsize=12)\n",
    "ax.grid(True, alpha=0.3)\n",
    "\n",
    "# Add a text box with information\n",
    "info_text = f'Features: {len(gdf)}\\nCRS: {gdf.crs}'\n",
    "ax.text(0.02, 0.98, info_text, transform=ax.transAxes, \n",
    "        verticalalignment='top', bbox=dict(boxstyle='round', facecolor='wheat', alpha=0.8))\n",
    "\n",
    "plt.tight_layout()\n",
    "plt.show()\n",
    "\n",
    "print(f\"✅ Static plot created successfully!\")\n",
    "print(f\"📊 Displaying {len(gdf)} coastline features\")\n"
   ]
  },
  {
   "cell_type": "code",
   "execution_count": 0,
   "metadata": {
    "ExecuteTime": {
     "end_time": "2025-09-18T17:04:16.384523Z",
     "start_time": "2025-09-18T17:04:14.038256Z"
    },
    "application/vnd.databricks.v1+cell": {
     "cellMetadata": {
      "byteLimit": 2048000,
      "rowLimit": 10000
     },
     "inputWidgets": {},
     "nuid": "6b57b62d-63b9-4601-b2e7-80c8892515cf",
     "showTitle": false,
     "tableResultSettingsMap": {},
     "title": ""
    }
   },
   "outputs": [],
   "source": [
    "# Create a more detailed visualization with different regions\n",
    "fig, axes = plt.subplots(2, 2, figsize=(20, 16))\n",
    "axes = axes.flatten()\n",
    "\n",
    "# Plot 1: Full US coastline\n",
    "gdf.plot(ax=axes[0], color='darkblue', linewidth=0.8)\n",
    "axes[0].set_title('Full US Coastline', fontsize=14, fontweight='bold')\n",
    "axes[0].grid(True, alpha=0.3)\n",
    "\n",
    "# Plot 2: East Coast (zoom)\n",
    "east_bounds = [-85, -65, 24, 45]  # [minx, maxx, miny, maxy]\n",
    "gdf_clipped = gdf.cx[east_bounds[0]:east_bounds[1], east_bounds[2]:east_bounds[3]]\n",
    "gdf_clipped.plot(ax=axes[1], color='darkgreen', linewidth=1.0)\n",
    "axes[1].set_title('East Coast Detail', fontsize=14, fontweight='bold')\n",
    "axes[1].grid(True, alpha=0.3)\n",
    "\n",
    "# Plot 3: West Coast (zoom)\n",
    "west_bounds = [-130, -110, 25, 50]\n",
    "gdf_clipped_west = gdf.cx[west_bounds[0]:west_bounds[1], west_bounds[2]:west_bounds[3]]\n",
    "gdf_clipped_west.plot(ax=axes[2], color='darkred', linewidth=1.0)\n",
    "axes[2].set_title('West Coast Detail', fontsize=14, fontweight='bold')\n",
    "axes[2].grid(True, alpha=0.3)\n",
    "\n",
    "# Plot 4: Gulf Coast (zoom)\n",
    "gulf_bounds = [-100, -80, 24, 32]\n",
    "gdf_clipped_gulf = gdf.cx[gulf_bounds[0]:gulf_bounds[1], gulf_bounds[2]:gulf_bounds[3]]\n",
    "gdf_clipped_gulf.plot(ax=axes[3], color='darkorange', linewidth=1.0)\n",
    "axes[3].set_title('Gulf Coast Detail', fontsize=14, fontweight='bold')\n",
    "axes[3].grid(True, alpha=0.3)\n",
    "\n",
    "plt.tight_layout()\n",
    "plt.show()\n",
    "\n",
    "print(\"✅ Regional detail plots created successfully!\")\n"
   ]
  },
  {
   "cell_type": "markdown",
   "metadata": {
    "application/vnd.databricks.v1+cell": {
     "cellMetadata": {},
     "inputWidgets": {},
     "nuid": "c857fb59-2ae7-453b-970a-ec8cf5f9215a",
     "showTitle": false,
     "tableResultSettingsMap": {},
     "title": ""
    }
   },
   "source": [
    "## 3. Interactive Visualization with Folium\n"
   ]
  },
  {
   "cell_type": "code",
   "execution_count": 0,
   "metadata": {
    "ExecuteTime": {
     "end_time": "2025-09-18T17:04:18.671804Z",
     "start_time": "2025-09-18T17:04:17.858480Z"
    },
    "application/vnd.databricks.v1+cell": {
     "cellMetadata": {
      "byteLimit": 2048000,
      "rowLimit": 10000
     },
     "inputWidgets": {},
     "nuid": "8dbae398-4c78-4ecf-962a-cf654bb8ac92",
     "showTitle": false,
     "tableResultSettingsMap": {},
     "title": ""
    }
   },
   "outputs": [],
   "source": [
    "# Create an interactive map with Folium\n",
    "bounds = gdf.total_bounds\n",
    "center_lat = 39.8283\n",
    "center_lon = -98.5795\n",
    "\n",
    "gdf_simple = gdf.copy()\n",
    "gdf_simple['geometry'] = gdf_simple['geometry'].simplify(\n",
    "    tolerance=1000, # tolerance of 1000 meters, connecting line segments smaller than 1000 meters\n",
    "    preserve_topology=True\n",
    ")\n",
    "\n",
    "# Create the base map\n",
    "m = folium.Map(\n",
    "    location=[center_lat, center_lon],\n",
    "    zoom_start=4,\n",
    "    tiles='OpenStreetMap'\n",
    ")\n",
    "\n",
    "# Convert to WGS84 if needed for folium\n",
    "if gdf_simple.crs != 'EPSG:4326':\n",
    "    gdf_wgs84 = gdf_simple.to_crs('EPSG:4326')\n",
    "else:\n",
    "    gdf_wgs84 = gdf_simple\n",
    "\n",
    "# Add the coastline to the map\n",
    "folium.GeoJson(\n",
    "    gdf_wgs84.__geo_interface__,\n",
    "    style_function=lambda feature: {\n",
    "        'fillColor': 'lightblue',\n",
    "        'color': 'darkblue',\n",
    "        'weight': 2,\n",
    "        'fillOpacity': 0.3,\n",
    "        'opacity': 0.8\n",
    "    },\n",
    "    popup=folium.Popup('US Coastline 2023', parse_html=True)\n",
    ").add_to(m)\n",
    "\n",
    "# Add a marker at the center\n",
    "folium.Marker(\n",
    "    [center_lat, center_lon],\n",
    "    popup='US Coastline Center',\n",
    "    icon=folium.Icon(color='red', icon='info-sign')\n",
    ").add_to(m)\n",
    "\n",
    "# Add layer control\n",
    "folium.LayerControl().add_to(m)\n",
    "\n",
    "# Display the map\n",
    "display(m)\n",
    "\n",
    "print(\"✅ Interactive map created successfully!\")\n",
    "print(f\"📍 Center coordinates: {center_lat:.4f}, {center_lon:.4f}\")\n",
    "print(f\"🗺️  Map bounds: {bounds}\")\n"
   ]
  },
  {
   "cell_type": "code",
   "execution_count": 0,
   "metadata": {
    "ExecuteTime": {
     "end_time": "2025-09-18T17:04:20.598195Z",
     "start_time": "2025-09-18T17:04:20.367403Z"
    },
    "application/vnd.databricks.v1+cell": {
     "cellMetadata": {
      "byteLimit": 2048000,
      "rowLimit": 10000
     },
     "inputWidgets": {},
     "nuid": "91e70c2c-a26b-4c08-ba21-42393694d662",
     "showTitle": false,
     "tableResultSettingsMap": {},
     "title": ""
    }
   },
   "outputs": [],
   "source": [
    "# Create a more advanced interactive map with multiple layers\n",
    "# Create a map with multiple tile layers\n",
    "m2 = folium.Map(\n",
    "    location=[center_lat, center_lon],\n",
    "    zoom_start=4,\n",
    "    tiles=None\n",
    ")\n",
    "\n",
    "# Add different tile layers\n",
    "folium.TileLayer('OpenStreetMap', name='OpenStreetMap').add_to(m2)\n",
    "folium.TileLayer('CartoDB positron', name='CartoDB Positron').add_to(m2)\n",
    "folium.TileLayer('CartoDB dark_matter', name='CartoDB Dark').add_to(m2)\n",
    "\n",
    "# Add the coastline with different styling\n",
    "folium.GeoJson(\n",
    "    gdf_wgs84.__geo_interface__,\n",
    "    style_function=lambda feature: {\n",
    "        'fillColor': 'lightcoral',\n",
    "        'color': 'darkred',\n",
    "        'weight': 3,\n",
    "        'fillOpacity': 0.2,\n",
    "        'opacity': 1.0\n",
    "    },\n",
    "    popup=folium.Popup('US Coastline 2023', parse_html=True),\n",
    "    name='US Coastline'\n",
    ").add_to(m2)\n",
    "\n",
    "# Add some major cities as markers\n",
    "major_cities = [\n",
    "    {'name': 'New York', 'lat': 40.7128, 'lon': -74.0060},\n",
    "    {'name': 'Los Angeles', 'lat': 34.0522, 'lon': -118.2437},\n",
    "    {'name': 'Miami', 'lat': 25.7617, 'lon': -80.1918},\n",
    "    {'name': 'Seattle', 'lat': 47.6062, 'lon': -122.3321},\n",
    "    {'name': 'Houston', 'lat': 29.7604, 'lon': -95.3698}\n",
    "]\n",
    "\n",
    "for city in major_cities:\n",
    "    folium.Marker(\n",
    "        [city['lat'], city['lon']],\n",
    "        popup=city['name'],\n",
    "        icon=folium.Icon(color='blue', icon='star')\n",
    "    ).add_to(m2)\n",
    "\n",
    "# Add a heatmap layer (simplified)\n",
    "from folium.plugins import HeatMap\n",
    "\n",
    "# Sample some points along the coastline for heatmap\n",
    "sample_points = []\n",
    "for idx, geom in enumerate(gdf_wgs84.geometry):\n",
    "    if idx % 10 == 0:  # Sample every 10th feature\n",
    "        coords = list(geom.coords)\n",
    "        for coord in coords[::5]:  # Sample every 5th coordinate\n",
    "            sample_points.append([coord[1], coord[0]])  # lat, lon\n",
    "\n",
    "if sample_points:\n",
    "    HeatMap(sample_points, name='Coastline Density').add_to(m2)\n",
    "\n",
    "# Add layer control\n",
    "folium.LayerControl().add_to(m2)\n",
    "\n",
    "# Add a legend\n",
    "legend_html = '''\n",
    "<div style=\"position: fixed; \n",
    "            bottom: 50px; left: 50px; width: 200px; height: 90px; \n",
    "            background-color: white; border:2px solid grey; z-index:9999; \n",
    "            font-size:14px; padding: 10px\">\n",
    "<p><b>US Coastline Map</b></p>\n",
    "<p><i class=\"fa fa-map-marker fa-2x\" style=\"color:red\"></i> Major Cities</p>\n",
    "<p><i class=\"fa fa-star fa-2x\" style=\"color:blue\"></i> Coastline</p>\n",
    "</div>\n",
    "'''\n",
    "m2.get_root().html.add_child(folium.Element(legend_html))\n",
    "\n",
    "# Display the map\n",
    "display(m2)\n",
    "\n",
    "print(\"✅ Advanced interactive map created successfully!\")\n",
    "print(f\"🏙️  Added {len(major_cities)} major cities as markers\")\n",
    "print(f\"🔥 Added heatmap with {len(sample_points)} sample points\")\n"
   ]
  },
  {
   "cell_type": "code",
   "execution_count": 0,
   "metadata": {
    "application/vnd.databricks.v1+cell": {
     "cellMetadata": {},
     "inputWidgets": {},
     "nuid": "6d50f276-5123-449e-b106-f0426fa34795",
     "showTitle": false,
     "tableResultSettingsMap": {},
     "title": ""
    }
   },
   "outputs": [],
   "source": []
  }
 ],
 "metadata": {
  "application/vnd.databricks.v1+notebook": {
   "computePreferences": {
    "hardware": {
     "accelerator": null,
     "gpuPoolId": null,
     "memory": null
    }
   },
   "dashboards": [],
   "environmentMetadata": {
    "base_environment": "",
    "environment_version": "1"
   },
   "inputWidgetPreferences": null,
   "language": "python",
   "notebookMetadata": {
    "pythonIndentUnit": 2
   },
   "notebookName": "01 - display US coastline shapefile",
   "widgets": {}
  },
  "kernelspec": {
   "display_name": "Python 3 (ipykernel)",
   "language": "python",
   "name": "python3"
  },
  "language_info": {
   "name": "python"
  }
 },
 "nbformat": 4,
 "nbformat_minor": 0
}
